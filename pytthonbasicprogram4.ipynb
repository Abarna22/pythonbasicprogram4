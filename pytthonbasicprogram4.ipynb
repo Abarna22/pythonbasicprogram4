{
 "cells": [
  {
   "cell_type": "code",
   "execution_count": 4,
   "id": "db45c23b",
   "metadata": {},
   "outputs": [
    {
     "name": "stdout",
     "output_type": "stream",
     "text": [
      "enter the number:5\n",
      "120\n"
     ]
    }
   ],
   "source": [
    "\"\"\"1. Write a Python Program to Find the Factorial of a Number?\n",
    "\n",
    "Ans\"\"\"\n",
    "\n",
    "num=int(input(\"enter the number:\"))\n",
    "j=1\n",
    "for i in range(1,num+1):\n",
    "    j=j*i\n",
    "print(j)"
   ]
  },
  {
   "cell_type": "code",
   "execution_count": 6,
   "id": "1e5c98ab",
   "metadata": {},
   "outputs": [
    {
     "name": "stdout",
     "output_type": "stream",
     "text": [
      "which table you want to display;3\n",
      "3 x 1 = 3\n",
      "3 x 2 = 6\n",
      "3 x 3 = 9\n",
      "3 x 4 = 12\n",
      "3 x 5 = 15\n",
      "3 x 6 = 18\n",
      "3 x 7 = 21\n",
      "3 x 8 = 24\n",
      "3 x 9 = 27\n",
      "3 x 10 = 30\n"
     ]
    }
   ],
   "source": [
    "\"\"\"2. Write a Python Program to Display the multiplication Table?\n",
    "Ans\"\"\"\n",
    "num= int(input(\"which table you want to display;\"))\n",
    "for i in range(1,11):\n",
    "    print(num,'x', i, '=',num*i)\n",
    "\n"
   ]
  },
  {
   "cell_type": "code",
   "execution_count": 6,
   "id": "820b357f",
   "metadata": {},
   "outputs": [
    {
     "name": "stdout",
     "output_type": "stream",
     "text": [
      "enter the range:5\n",
      "0\n",
      "1\n",
      "1\n",
      "2\n",
      "3\n",
      "5\n",
      "8\n",
      "13\n"
     ]
    }
   ],
   "source": [
    "\"\"\"3. Write a Python Program to Print the Fibonacci sequence?\n",
    "Ans\"\"\"\n",
    "\n",
    "num= int(input(\"enter the range:\"))\n",
    "j=1\n",
    "i=0\n",
    "z=0\n",
    "print(i)\n",
    "print(j)\n",
    "while(z<=num):\n",
    "    x=j+i\n",
    "    i=j\n",
    "    j=x\n",
    "    z=z+1\n",
    "    print(j)"
   ]
  },
  {
   "cell_type": "code",
   "execution_count": 14,
   "id": "d350969c",
   "metadata": {},
   "outputs": [
    {
     "name": "stdout",
     "output_type": "stream",
     "text": [
      "entr the number:1634\n",
      "armstrong number\n"
     ]
    }
   ],
   "source": [
    "\"\"\"4. Write a Python Program to Check Armstrong Number?\n",
    "Ans\"\"\"\n",
    "\n",
    "num= int(input(\"entr the number:\"))\n",
    "order=len(str(num))\n",
    "s = 0\n",
    "t=num\n",
    "while t>0:\n",
    "    d=t%10\n",
    "    s +=d**order\n",
    "    t//=10\n",
    "if s==num:\n",
    "    print(\"armstrong number\")\n",
    "else:\n",
    "    print(\"not an armstrong number\")\n",
    "\n",
    "    "
   ]
  },
  {
   "cell_type": "code",
   "execution_count": 15,
   "id": "604bbd00",
   "metadata": {},
   "outputs": [
    {
     "name": "stdout",
     "output_type": "stream",
     "text": [
      "lower limit:1\n",
      "upper limit:600\n",
      "1\n",
      "2\n",
      "3\n",
      "4\n",
      "5\n",
      "6\n",
      "7\n",
      "8\n",
      "9\n",
      "153\n",
      "370\n",
      "371\n",
      "407\n"
     ]
    }
   ],
   "source": [
    "lower = int(input(\"lower limit:\"))\n",
    "upper = int(input(\"upper limit:\"))\n",
    "for num in range( lower, upper+1):\n",
    "    order=len(str(num))\n",
    "    s = 0\n",
    "    t=num\n",
    "    while t>0:\n",
    "        d=t%10\n",
    "        s +=d**order\n",
    "        t//=10\n",
    "    if s==num:\n",
    "        print(num)"
   ]
  },
  {
   "cell_type": "code",
   "execution_count": 32,
   "id": "45f4c970",
   "metadata": {},
   "outputs": [
    {
     "name": "stdout",
     "output_type": "stream",
     "text": [
      "Enter a number: 4\n",
      "The sum is 10\n"
     ]
    }
   ],
   "source": [
    "\"\"\"6. Write a Python Program to Find the Sum of Natural Numbers?\n",
    "Ans\"\"\"\n",
    "\n",
    "num = int(input(\"Enter a number: \"))  \n",
    "  \n",
    "if num < 0:  \n",
    "    print(\"Enter a positive number\")  \n",
    "else:  \n",
    "    sum = 0  \n",
    "    while(num > 0):  \n",
    "        sum += num  \n",
    "        num -= 1  \n",
    "    print(\"The sum is\",sum)  \n",
    "\n",
    "    "
   ]
  },
  {
   "cell_type": "code",
   "execution_count": null,
   "id": "d86eff89",
   "metadata": {},
   "outputs": [],
   "source": []
  }
 ],
 "metadata": {
  "kernelspec": {
   "display_name": "Python 3",
   "language": "python",
   "name": "python3"
  },
  "language_info": {
   "codemirror_mode": {
    "name": "ipython",
    "version": 3
   },
   "file_extension": ".py",
   "mimetype": "text/x-python",
   "name": "python",
   "nbconvert_exporter": "python",
   "pygments_lexer": "ipython3",
   "version": "3.8.8"
  }
 },
 "nbformat": 4,
 "nbformat_minor": 5
}
